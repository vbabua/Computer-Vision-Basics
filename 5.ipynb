{
 "cells": [
  {
   "cell_type": "code",
   "execution_count": 1,
   "id": "28c9b89e",
   "metadata": {},
   "outputs": [],
   "source": [
    "import cv2\n",
    "import matplotlib.pyplot as plt\n",
    "import numpy as np"
   ]
  },
  {
   "cell_type": "code",
   "execution_count": 2,
   "id": "61d69e14",
   "metadata": {},
   "outputs": [],
   "source": [
    "def ICV_rgb_to_greyscale(image):\n",
    "    '''\n",
    "    Image : Image in RBG that needs to be converted to greyscale\n",
    "    Returns : The greyscale image of the RGB image\n",
    "    '''\n",
    "    #Array slicing to get all the channels\n",
    "    normalized_image = image\n",
    "    blue, green, red  = normalized_image[:, :, 0], normalized_image[:, :, 1], normalized_image[:, :, 2]\n",
    "    red_const, green_const, blue_const = 0.3, 0.59, 0.11\n",
    "    \n",
    "    greyscale_image = red_const * red + \\\n",
    "                        green_const * green + \\\n",
    "                        blue_const * blue\n",
    "    return greyscale_image"
   ]
  },
  {
   "cell_type": "code",
   "execution_count": 3,
   "id": "8003af27",
   "metadata": {},
   "outputs": [],
   "source": [
    "def ICV_load_video(filepath):\n",
    "    capture = cv2.VideoCapture(filepath)\n",
    "    frames = []\n",
    "    \n",
    "    while capture.isOpened():\n",
    "    #Readiing a new frame\n",
    "        ret, frame = capture.read()\n",
    "        if ret == True:\n",
    "            greyscale_frame = ICV_rgb_to_greyscale(frame)\n",
    "            frames.append(greyscale_frame)\n",
    "            #cv2.imshow(\"frame\", frame)\n",
    "            k = cv2.waitKey(1) & 0xff\n",
    "    \n",
    "        #Breaking the while loop if failed to read a new frame\n",
    "        else:\n",
    "            break\n",
    "\n",
    "    capture.release()\n",
    "    cv2.destroyAllWindows()\n",
    "    return frames"
   ]
  },
  {
   "cell_type": "code",
   "execution_count": 4,
   "id": "8e53711a",
   "metadata": {},
   "outputs": [],
   "source": [
    "filepath = \"Dataset/DatasetC.avi\"\n",
    "frames = ICV_load_video(filepath)\n"
   ]
  },
  {
   "cell_type": "code",
   "execution_count": 5,
   "id": "8acce71f",
   "metadata": {},
   "outputs": [],
   "source": [
    "def ICV_frame_difference(current_frame, reference_frame, classification_threshold, show_plot = False, name = None):\n",
    "    '''\n",
    "    param current_frame : The frame for which pixel by pixel frame difference have to be done\n",
    "    param reference_frame : The reference for pixel by pixel frame differencing\n",
    "    param classification_threshold : The the threshold for seperating background and objects\n",
    "    param show_plot : Boolean value specifying if the plots have to be displayed or not\n",
    "    param name : String to distinguish saved file names\n",
    "    '''\n",
    "    frame_difference = np.zeros((current_frame.shape[0], current_frame.shape[1]))\n",
    "    \n",
    "    for i in range(current_frame.shape[0]):\n",
    "        for j in range(current_frame.shape[1]):\n",
    "            frame_difference[i][j] = np.abs(current_frame[i][j] - reference_frame[i][j])       \n",
    "            \n",
    "    threshold_frames = ICV_threshold_frames(frame_difference, classification_threshold)\n",
    "    if show_plot:\n",
    "        plt.title(\"Frame differencing with {}\".format(name))\n",
    "        plt.axis(\"off\")\n",
    "        plt.imshow(frame_difference, cmap = \"gray\")\n",
    "        plt.imsave(\"outputs/frame_difference {}.jpg\".format(name), frame_difference, cmap = 'gray')\n",
    "        plt.show()\n",
    "        \n",
    "        plt.title(\"Thresholding with {}\".format(name))\n",
    "        plt.axis(\"off\")\n",
    "        plt.imshow(threshold_frames, cmap = \"gray\")\n",
    "        plt.show()\n",
    "        \n",
    "    return threshold_frames    \n",
    "\n",
    "    \n",
    "    "
   ]
  },
  {
   "cell_type": "code",
   "execution_count": 6,
   "id": "a9816afd",
   "metadata": {},
   "outputs": [],
   "source": [
    "def ICV_threshold_frames(frame_difference, classification_threshold):\n",
    "    '''\n",
    "    param frame_differe : Pixel by pixel frame difference of all the frames and the reference frame\n",
    "    param classification_threshold : The the threshold for seperating background and objects\n",
    "    '''\n",
    "    threshold_frames = np.zeros((frame_difference.shape[0], frame_difference.shape[1]))\n",
    "    for i in range(frame_difference.shape[0]):\n",
    "        for j in range(frame_difference.shape[1]):\n",
    "            if frame_difference[i][j] > classification_threshold:\n",
    "                threshold_frames[i][j] = 1\n",
    "            else:\n",
    "                threshold_frames[i][j] = 0\n",
    "    return threshold_frames\n",
    "    "
   ]
  },
  {
   "cell_type": "code",
   "execution_count": 7,
   "id": "5bc5c8c6",
   "metadata": {},
   "outputs": [],
   "source": [
    "def ICV_frame_difference_video(frames):\n",
    "    reference_frame = frames[0]\n",
    "    classification_threshold = 50\n",
    "    for i, frame in enumerate(frames[1 : ]):\n",
    "        frame_difference = ICV_frame_difference(frame, reference_frame, classification_threshold, True, \"reference as first frame for frame number \" + str(i + 1))\n",
    "        \n",
    "        "
   ]
  },
  {
   "cell_type": "code",
   "execution_count": 8,
   "id": "895a5e10",
   "metadata": {},
   "outputs": [],
   "source": [
    "def ICV_frame_difference_video_consecutive(frames):\n",
    "    classification_threshold = 50\n",
    "    for i in range(1, len(frames)):\n",
    "        frame_difference = ICV_frame_difference(frames[i], frames[i - 1], classification_threshold, True, \"reference as previous frame for frame number \" + str(i + 1))\n",
    "        "
   ]
  },
  {
   "cell_type": "code",
   "execution_count": 9,
   "id": "d6a86c3f",
   "metadata": {},
   "outputs": [],
   "source": [
    "def ICV_background(frames):\n",
    "    background = np.median(frames, axis = 0)\n",
    "    return background\n",
    "    "
   ]
  },
  {
   "cell_type": "code",
   "execution_count": 10,
   "id": "dd658c0e",
   "metadata": {},
   "outputs": [],
   "source": [
    "#Using replicating edges for padding as it was found from question 2 that this method gives better result\n",
    "def ICV_pad_image_replicate_edge(image, pad_length):\n",
    "    \"\"\"\n",
    "    param image : Image that needs to be padded\n",
    "    pad_length : Amount of padding\n",
    "    Returns : The padded image with edge pixels\n",
    "    \"\"\"\n",
    "    #Getting the height and width of input image\n",
    "    image_height = image.shape[0]\n",
    "    image_width = image.shape[1]\n",
    "    \n",
    "    #Initializing a matrix with zeros with dimensions (height + 2 * pad) * (width + 2 * pad)\n",
    "    padded_image = np.zeros((image_height + 2 * pad_length, image_width + 2 * pad_length))\n",
    "    \n",
    "    #Inserting the image matrix at the requied position\n",
    "    padded_image[pad_length : image_height + pad_length, pad_length : image_width + pad_length] = image\n",
    "    \n",
    "    #Replicating the pixels of the edges for padding\n",
    "    for i in range(pad_length):\n",
    "        padded_image[i , :] = padded_image[pad_length, :]\n",
    "        padded_image[image_height + pad_length + i, :] = padded_image[image_height + pad_length -1, :]\n",
    "        padded_image[:, i] = padded_image[:, pad_length]\n",
    "        padded_image[:, image_width + pad_length + i] = padded_image[:, image_width + pad_length -1]\n",
    "           \n",
    "    return padded_image"
   ]
  },
  {
   "cell_type": "code",
   "execution_count": 11,
   "id": "57fc51e8",
   "metadata": {},
   "outputs": [],
   "source": [
    "def ICV_dilation(binary_image, kernel):\n",
    "    '''\n",
    "    binary_image : Image in binary form that needs to be dilated\n",
    "    kernel : Kernel for dilation\n",
    "    '''\n",
    "    \n",
    "    pad = int((kernel.shape[0] - 1) / 2)\n",
    "   \n",
    "    padded_binary_image = ICV_pad_image_replicate_edge(binary_image, pad)\n",
    "    \n",
    "    dilated_image_height = int((binary_image.shape[0] - kernel.shape[0] + 2 * pad) / 1) + 1\n",
    "    dilated_image_width = int((binary_image.shape[1] - kernel.shape[0] + 2 * pad) / 1) + 1\n",
    "    \n",
    "    dilated_image = np.zeros((dilated_image_height, dilated_image_width))\n",
    "\n",
    "    for height in range(dilated_image.shape[0]):\n",
    "        for width in range(dilated_image.shape[1]):\n",
    "            top = height \n",
    "            bottom = height + kernel.shape[0]\n",
    "            \n",
    "            #Calculating the horizontal start and the end of the current slice of the image \n",
    "            left = width \n",
    "            right = width + kernel.shape[1]\n",
    "            \n",
    "            #Using the dimensions to get a slice of the input image\n",
    "            sliced_image = padded_binary_image[top : bottom, left : right]\n",
    "            \n",
    "            dilation = (sliced_image == kernel)\n",
    "            \n",
    "            dilation_result = np.all(dilation == True)\n",
    "            \n",
    "            if dilation_result:\n",
    "                dilated_image[height, width] = 1\n",
    "            else:\n",
    "                dilated_image[height, width] = 0\n",
    "    \n",
    "    return dilated_image\n",
    "            \n",
    "                    "
   ]
  },
  {
   "cell_type": "code",
   "execution_count": 12,
   "id": "27c32bfb",
   "metadata": {},
   "outputs": [],
   "source": [
    "def ICV_erosion(binary_image, kernel):\n",
    "    '''\n",
    "    binary_image : Image in binary form that needs to be dilated\n",
    "    kernel : Kernel for erosion\n",
    "    '''\n",
    "    \n",
    "    pad = int((kernel.shape[0] - 1) / 2)\n",
    "    \n",
    "    padded_binary_image = ICV_pad_image_replicate_edge(binary_image, pad)\n",
    "    \n",
    "    eroded_image_height = int((binary_image.shape[0] - kernel.shape[0] + 2 * pad) / 1) + 1\n",
    "    eroded_image_width = int((binary_image.shape[1] - kernel.shape[0] + 2 * pad) / 1) + 1\n",
    "    \n",
    "    eroded_image = np.zeros((eroded_image_height, eroded_image_width))\n",
    "\n",
    "    for height in range(eroded_image.shape[0]):\n",
    "        for width in range(eroded_image.shape[1]):\n",
    "            top = height \n",
    "            bottom = height + kernel.shape[0]\n",
    "            \n",
    "            #Calculating the horizontal start and the end of the current slice of the image : change\n",
    "            left = width \n",
    "            right = width + kernel.shape[1]\n",
    "            \n",
    "            #Using the dimensions to get a slice of the input image\n",
    "            sliced_image = padded_binary_image[top : bottom, left : right]\n",
    "            \n",
    "            erosion = (sliced_image == kernel)\n",
    "            \n",
    "            erosion_result = np.any(erosion == True)\n",
    "            \n",
    "            if erosion_result:\n",
    "                eroded_image[height, width] = 1\n",
    "            else:\n",
    "                eroded_image[height, width] = 0\n",
    "    \n",
    "    return eroded_image"
   ]
  },
  {
   "cell_type": "code",
   "execution_count": 13,
   "id": "4df264eb",
   "metadata": {},
   "outputs": [],
   "source": [
    "def ICV_interpolate_image(binary_image):\n",
    "    '''\n",
    "    params binary_image : Binary image that has to be interpolated\n",
    "    '''\n",
    "    #Interpolated binary images initialized with binary image initially\n",
    "    interpolated_binary_image = binary_image.copy()\n",
    "\n",
    "    #finding the indexes of objects in the binary image\n",
    "    object_index = np.argwhere(binary_image[:, :] == 1)\n",
    "    rows = object_index[:, 0]\n",
    "    columns = object_index[:, 1]\n",
    "\n",
    "    for row, column in zip(rows, columns):\n",
    "        \n",
    "        #Checking if the index is within the bound of the image or not\n",
    "        if row < binary_image.shape[0] - 2 and column < binary_image.shape[1] - 2:\n",
    "            if binary_image[row, column + 1] == 0:\n",
    "                interpolated_binary_image[row, column + 1] = 1\n",
    "                \n",
    "            if binary_image[row, column - 1] == 0:\n",
    "                interpolated_binary_image[row, column - 1] = 1\n",
    "                \n",
    "            if binary_image[row + 1, column] == 0:\n",
    "                interpolated_binary_image[row + 1, column] = 1\n",
    "                \n",
    "            if binary_image[row + 1, column + 1] == 0:\n",
    "                interpolated_binary_image[row + 1, column + 1] = 1\n",
    "                \n",
    "            if binary_image[row + 1, column - 1] == 0:\n",
    "                interpolated_binary_image[row + 1, column - 1] = 1\n",
    "                \n",
    "            if binary_image[row - 1, column] == 1:\n",
    "                interpolated_binary_image[row - 1, column] = 1\n",
    "                \n",
    "            if binary_image[row - 1, column + 1] == 0:\n",
    "                interpolated_binary_image[row-1, column + 1] = 1\n",
    "                \n",
    "            if binary_image[row - 1, column - 1] == 0:\n",
    "                interpolated_binary_image[row - 1, column -1] = 1\n",
    "                \n",
    "    return interpolated_binary_image"
   ]
  },
  {
   "cell_type": "code",
   "execution_count": 14,
   "id": "0cbc5a6a",
   "metadata": {},
   "outputs": [],
   "source": [
    "def ICV_find_no_of_connected_components(binary_image):\n",
    "    '''\n",
    "    param binary_image : Binary image whose count of objects have to be found\n",
    "    '''\n",
    "    #new_image = np.zeros(binary_image.shape)\n",
    "    visited = np.zeros(binary_image.shape)\n",
    "    \n",
    "    no_of_connected_components = 0\n",
    "    \n",
    "    for i in range(binary_image.shape[0]):\n",
    "        for j in range(binary_image.shape[1]):\n",
    "            if visited[i, j] == 1:\n",
    "                continue\n",
    "            if binary_image[i, j] == 1:\n",
    "                visited = ICV_flood_fill(binary_image, visited, i, j)\n",
    "                no_of_connected_components = no_of_connected_components + 1\n",
    "                #print(no_of_connected_components)\n",
    "    return no_of_connected_components"
   ]
  },
  {
   "cell_type": "code",
   "execution_count": 15,
   "id": "3785eb64",
   "metadata": {},
   "outputs": [],
   "source": [
    "def ICV_flood_fill(image, visited, row, column):\n",
    "    '''\n",
    "    param image : Array of the binary image\n",
    "    param visited : Array specifying if each pixel has been visited before or not\n",
    "    param row, param column : height and width of the current pixel\n",
    "    '''\n",
    "    \n",
    "    if(row < 0 or row >= image.shape[0] or column < 0 or column >= image.shape[1]):\n",
    "        return visited\n",
    "    if(visited[row, column] == 1):\n",
    "        return visited\n",
    "    if(image[row, column] != 1):\n",
    "        visited[row, column] = 1\n",
    "        return  visited\n",
    "    \n",
    "    visited[row, column] = 1\n",
    "    \n",
    "    visited = ICV_flood_fill(image, visited, row - 1, column - 1)\n",
    "    visited = ICV_flood_fill(image, visited, row - 1, column)\n",
    "    visited = ICV_flood_fill(image, visited, row - 1, column + 1)\n",
    "    visited = ICV_flood_fill(image, visited, row, column - 1)\n",
    "    visited = ICV_flood_fill(image, visited, row, column + 1)\n",
    "    visited = ICV_flood_fill(image, visited, row + 1, column - 1)\n",
    "    visited = ICV_flood_fill(image, visited, row + 1, column)\n",
    "    visited = ICV_flood_fill(image, visited, row + 1, column + 1)\n",
    "    \n",
    "    return visited"
   ]
  },
  {
   "cell_type": "code",
   "execution_count": 16,
   "id": "e1e78466",
   "metadata": {},
   "outputs": [],
   "source": [
    "import sys\n",
    "sys.setrecursionlimit(40000)"
   ]
  },
  {
   "cell_type": "code",
   "execution_count": 17,
   "id": "7e1337a1",
   "metadata": {},
   "outputs": [],
   "source": [
    "def ICV_count_moving_objects_interpolation_dilation_interpolation(frames):\n",
    "    '''\n",
    "    param frames : Frames of the video sequence\n",
    "    '''\n",
    "    kernel = np.ones((3, 3))\n",
    "    moving_objects = []\n",
    "    classification_threshold = 50\n",
    "    interpolation_level = 4\n",
    "    for i in range(1, len(frames)):\n",
    "        image = ICV_frame_difference(frames[i], frames[i - 1], classification_threshold, False)\n",
    "        image = ICV_dilation(image, kernel)\n",
    "        for j in range(interpolation_level):\n",
    "            interpolated_image = ICV_interpolate_image(image)\n",
    "            image = interpolated_image\n",
    "        moving_objects_count = ICV_find_no_of_connected_components(image)\n",
    "        moving_objects.append(moving_objects_count)\n",
    "        \n",
    "    plt.bar(np.arange(len(moving_objects)), moving_objects)\n",
    "    return moving_objects"
   ]
  },
  {
   "cell_type": "code",
   "execution_count": 18,
   "id": "858665ed",
   "metadata": {},
   "outputs": [],
   "source": [
    "def ICV_ICV_count_moving_objects_erosion_dilation(frames):\n",
    "    '''\n",
    "    param frames : Frames of the video sequence\n",
    "    '''\n",
    "    kernel = np.ones((3, 3))\n",
    "    moving_objects = []\n",
    "    classification_threshold = 50\n",
    "    level = 7\n",
    "    #Iterating through all frames to find the number of objects in each frame\n",
    "    for i in range(1, len(frames)):\n",
    "        image = ICV_frame_difference(frames[i], frames[i - 1], classification_threshold, False)\n",
    "        \n",
    "        #Dialating and eroding the image many times\n",
    "        for j in range(level):\n",
    "            image= ICV_dilation(image, kernel)\n",
    "            image = ICV_erosion(image, kernel)\n",
    "        \n",
    "        #Finding the counts of objects in a frame\n",
    "        moving_objects_count = ICV_find_no_of_connected_components(image)\n",
    "    \n",
    "        moving_objects.append(moving_objects_count)\n",
    "        \n",
    "    plt.bar(np.arange(len(moving_objects)), moving_objects)\n",
    "    return moving_objects"
   ]
  },
  {
   "cell_type": "code",
   "execution_count": 19,
   "id": "0ed6d373",
   "metadata": {},
   "outputs": [],
   "source": [
    "def ICV_count_moving_objects_interpolation(frames):\n",
    "    '''\n",
    "    param frames : Frames of the video sequence\n",
    "    '''\n",
    "    moving_objects = []\n",
    "    classification_threshold = 50\n",
    "    interpolation_level = 4\n",
    "    #Iterating through all frames to find the number of objects in each frame\n",
    "    for i in range(1, len(frames)):\n",
    "        image = ICV_frame_difference(frames[i], frames[i - 1], classification_threshold, False)\n",
    "        \n",
    "        #Interpolating the image a number of times specified by interpolation_level\n",
    "        for j in range(interpolation_level):\n",
    "            interpolated_image = ICV_interpolate_image(image)\n",
    "            image = interpolated_image\n",
    "        \n",
    "        #Finding the counts of objects in a frame\n",
    "        moving_objects_count = ICV_find_no_of_connected_components(image)\n",
    "        \n",
    "        moving_objects.append(moving_objects_count)\n",
    "        \n",
    "    plt.bar(np.arange(len(moving_objects)), moving_objects)\n",
    "    return moving_objects\n",
    "\n"
   ]
  },
  {
   "cell_type": "markdown",
   "id": "a5c66dba",
   "metadata": {},
   "source": [
    "<b>a) Write a function that performs pixel-by-pixel frame differencing using, as reference frame, the first frame of an image sequence. Apply a classification threshold and save the results.</b>"
   ]
  },
  {
   "cell_type": "code",
   "execution_count": 20,
   "id": "718c32d5",
   "metadata": {},
   "outputs": [
    {
     "ename": "FileNotFoundError",
     "evalue": "[Errno 2] No such file or directory: 'outputs/frame_difference reference as first frame for frame number 1.jpg'",
     "output_type": "error",
     "traceback": [
      "\u001b[0;31m---------------------------------------------------------------------------\u001b[0m",
      "\u001b[0;31mFileNotFoundError\u001b[0m                         Traceback (most recent call last)",
      "\u001b[0;32m/var/folders/g5/b9y581rx30570s6hjvj8t6_h0000gn/T/ipykernel_14480/3623508099.py\u001b[0m in \u001b[0;36m<module>\u001b[0;34m\u001b[0m\n\u001b[0;32m----> 1\u001b[0;31m \u001b[0mICV_frame_difference_video\u001b[0m\u001b[0;34m(\u001b[0m\u001b[0mframes\u001b[0m\u001b[0;34m)\u001b[0m\u001b[0;34m\u001b[0m\u001b[0;34m\u001b[0m\u001b[0m\n\u001b[0m",
      "\u001b[0;32m/var/folders/g5/b9y581rx30570s6hjvj8t6_h0000gn/T/ipykernel_14480/1064208516.py\u001b[0m in \u001b[0;36mICV_frame_difference_video\u001b[0;34m(frames)\u001b[0m\n\u001b[1;32m      3\u001b[0m     \u001b[0mclassification_threshold\u001b[0m \u001b[0;34m=\u001b[0m \u001b[0;36m50\u001b[0m\u001b[0;34m\u001b[0m\u001b[0;34m\u001b[0m\u001b[0m\n\u001b[1;32m      4\u001b[0m     \u001b[0;32mfor\u001b[0m \u001b[0mi\u001b[0m\u001b[0;34m,\u001b[0m \u001b[0mframe\u001b[0m \u001b[0;32min\u001b[0m \u001b[0menumerate\u001b[0m\u001b[0;34m(\u001b[0m\u001b[0mframes\u001b[0m\u001b[0;34m[\u001b[0m\u001b[0;36m1\u001b[0m \u001b[0;34m:\u001b[0m \u001b[0;34m]\u001b[0m\u001b[0;34m)\u001b[0m\u001b[0;34m:\u001b[0m\u001b[0;34m\u001b[0m\u001b[0;34m\u001b[0m\u001b[0m\n\u001b[0;32m----> 5\u001b[0;31m         \u001b[0mframe_difference\u001b[0m \u001b[0;34m=\u001b[0m \u001b[0mICV_frame_difference\u001b[0m\u001b[0;34m(\u001b[0m\u001b[0mframe\u001b[0m\u001b[0;34m,\u001b[0m \u001b[0mreference_frame\u001b[0m\u001b[0;34m,\u001b[0m \u001b[0mclassification_threshold\u001b[0m\u001b[0;34m,\u001b[0m \u001b[0;32mTrue\u001b[0m\u001b[0;34m,\u001b[0m \u001b[0;34m\"reference as first frame for frame number \"\u001b[0m \u001b[0;34m+\u001b[0m \u001b[0mstr\u001b[0m\u001b[0;34m(\u001b[0m\u001b[0mi\u001b[0m \u001b[0;34m+\u001b[0m \u001b[0;36m1\u001b[0m\u001b[0;34m)\u001b[0m\u001b[0;34m)\u001b[0m\u001b[0;34m\u001b[0m\u001b[0;34m\u001b[0m\u001b[0m\n\u001b[0m\u001b[1;32m      6\u001b[0m \u001b[0;34m\u001b[0m\u001b[0m\n\u001b[1;32m      7\u001b[0m \u001b[0;34m\u001b[0m\u001b[0m\n",
      "\u001b[0;32m/var/folders/g5/b9y581rx30570s6hjvj8t6_h0000gn/T/ipykernel_14480/4142518245.py\u001b[0m in \u001b[0;36mICV_frame_difference\u001b[0;34m(current_frame, reference_frame, classification_threshold, show_plot, name)\u001b[0m\n\u001b[1;32m     18\u001b[0m         \u001b[0mplt\u001b[0m\u001b[0;34m.\u001b[0m\u001b[0maxis\u001b[0m\u001b[0;34m(\u001b[0m\u001b[0;34m\"off\"\u001b[0m\u001b[0;34m)\u001b[0m\u001b[0;34m\u001b[0m\u001b[0;34m\u001b[0m\u001b[0m\n\u001b[1;32m     19\u001b[0m         \u001b[0mplt\u001b[0m\u001b[0;34m.\u001b[0m\u001b[0mimshow\u001b[0m\u001b[0;34m(\u001b[0m\u001b[0mframe_difference\u001b[0m\u001b[0;34m,\u001b[0m \u001b[0mcmap\u001b[0m \u001b[0;34m=\u001b[0m \u001b[0;34m\"gray\"\u001b[0m\u001b[0;34m)\u001b[0m\u001b[0;34m\u001b[0m\u001b[0;34m\u001b[0m\u001b[0m\n\u001b[0;32m---> 20\u001b[0;31m         \u001b[0mplt\u001b[0m\u001b[0;34m.\u001b[0m\u001b[0mimsave\u001b[0m\u001b[0;34m(\u001b[0m\u001b[0;34m\"outputs/frame_difference {}.jpg\"\u001b[0m\u001b[0;34m.\u001b[0m\u001b[0mformat\u001b[0m\u001b[0;34m(\u001b[0m\u001b[0mname\u001b[0m\u001b[0;34m)\u001b[0m\u001b[0;34m,\u001b[0m \u001b[0mframe_difference\u001b[0m\u001b[0;34m,\u001b[0m \u001b[0mcmap\u001b[0m \u001b[0;34m=\u001b[0m \u001b[0;34m'gray'\u001b[0m\u001b[0;34m)\u001b[0m\u001b[0;34m\u001b[0m\u001b[0;34m\u001b[0m\u001b[0m\n\u001b[0m\u001b[1;32m     21\u001b[0m         \u001b[0mplt\u001b[0m\u001b[0;34m.\u001b[0m\u001b[0mshow\u001b[0m\u001b[0;34m(\u001b[0m\u001b[0;34m)\u001b[0m\u001b[0;34m\u001b[0m\u001b[0;34m\u001b[0m\u001b[0m\n\u001b[1;32m     22\u001b[0m \u001b[0;34m\u001b[0m\u001b[0m\n",
      "\u001b[0;32m~/opt/anaconda3/lib/python3.9/site-packages/matplotlib/pyplot.py\u001b[0m in \u001b[0;36mimsave\u001b[0;34m(fname, arr, **kwargs)\u001b[0m\n\u001b[1;32m   2410\u001b[0m \u001b[0;34m@\u001b[0m\u001b[0m_copy_docstring_and_deprecators\u001b[0m\u001b[0;34m(\u001b[0m\u001b[0mmatplotlib\u001b[0m\u001b[0;34m.\u001b[0m\u001b[0mimage\u001b[0m\u001b[0;34m.\u001b[0m\u001b[0mimsave\u001b[0m\u001b[0;34m)\u001b[0m\u001b[0;34m\u001b[0m\u001b[0;34m\u001b[0m\u001b[0m\n\u001b[1;32m   2411\u001b[0m \u001b[0;32mdef\u001b[0m \u001b[0mimsave\u001b[0m\u001b[0;34m(\u001b[0m\u001b[0mfname\u001b[0m\u001b[0;34m,\u001b[0m \u001b[0marr\u001b[0m\u001b[0;34m,\u001b[0m \u001b[0;34m**\u001b[0m\u001b[0mkwargs\u001b[0m\u001b[0;34m)\u001b[0m\u001b[0;34m:\u001b[0m\u001b[0;34m\u001b[0m\u001b[0;34m\u001b[0m\u001b[0m\n\u001b[0;32m-> 2412\u001b[0;31m     \u001b[0;32mreturn\u001b[0m \u001b[0mmatplotlib\u001b[0m\u001b[0;34m.\u001b[0m\u001b[0mimage\u001b[0m\u001b[0;34m.\u001b[0m\u001b[0mimsave\u001b[0m\u001b[0;34m(\u001b[0m\u001b[0mfname\u001b[0m\u001b[0;34m,\u001b[0m \u001b[0marr\u001b[0m\u001b[0;34m,\u001b[0m \u001b[0;34m**\u001b[0m\u001b[0mkwargs\u001b[0m\u001b[0;34m)\u001b[0m\u001b[0;34m\u001b[0m\u001b[0;34m\u001b[0m\u001b[0m\n\u001b[0m\u001b[1;32m   2413\u001b[0m \u001b[0;34m\u001b[0m\u001b[0m\n\u001b[1;32m   2414\u001b[0m \u001b[0;34m\u001b[0m\u001b[0m\n",
      "\u001b[0;32m~/opt/anaconda3/lib/python3.9/site-packages/matplotlib/image.py\u001b[0m in \u001b[0;36mimsave\u001b[0;34m(fname, arr, vmin, vmax, cmap, format, origin, dpi, metadata, pil_kwargs)\u001b[0m\n\u001b[1;32m   1614\u001b[0m         \u001b[0mpil_kwargs\u001b[0m\u001b[0;34m.\u001b[0m\u001b[0msetdefault\u001b[0m\u001b[0;34m(\u001b[0m\u001b[0;34m\"format\"\u001b[0m\u001b[0;34m,\u001b[0m \u001b[0mformat\u001b[0m\u001b[0;34m)\u001b[0m\u001b[0;34m\u001b[0m\u001b[0;34m\u001b[0m\u001b[0m\n\u001b[1;32m   1615\u001b[0m         \u001b[0mpil_kwargs\u001b[0m\u001b[0;34m.\u001b[0m\u001b[0msetdefault\u001b[0m\u001b[0;34m(\u001b[0m\u001b[0;34m\"dpi\"\u001b[0m\u001b[0;34m,\u001b[0m \u001b[0;34m(\u001b[0m\u001b[0mdpi\u001b[0m\u001b[0;34m,\u001b[0m \u001b[0mdpi\u001b[0m\u001b[0;34m)\u001b[0m\u001b[0;34m)\u001b[0m\u001b[0;34m\u001b[0m\u001b[0;34m\u001b[0m\u001b[0m\n\u001b[0;32m-> 1616\u001b[0;31m         \u001b[0mimage\u001b[0m\u001b[0;34m.\u001b[0m\u001b[0msave\u001b[0m\u001b[0;34m(\u001b[0m\u001b[0mfname\u001b[0m\u001b[0;34m,\u001b[0m \u001b[0;34m**\u001b[0m\u001b[0mpil_kwargs\u001b[0m\u001b[0;34m)\u001b[0m\u001b[0;34m\u001b[0m\u001b[0;34m\u001b[0m\u001b[0m\n\u001b[0m\u001b[1;32m   1617\u001b[0m \u001b[0;34m\u001b[0m\u001b[0m\n\u001b[1;32m   1618\u001b[0m \u001b[0;34m\u001b[0m\u001b[0m\n",
      "\u001b[0;32m~/opt/anaconda3/lib/python3.9/site-packages/PIL/Image.py\u001b[0m in \u001b[0;36msave\u001b[0;34m(self, fp, format, **params)\u001b[0m\n\u001b[1;32m   2235\u001b[0m                 \u001b[0mfp\u001b[0m \u001b[0;34m=\u001b[0m \u001b[0mbuiltins\u001b[0m\u001b[0;34m.\u001b[0m\u001b[0mopen\u001b[0m\u001b[0;34m(\u001b[0m\u001b[0mfilename\u001b[0m\u001b[0;34m,\u001b[0m \u001b[0;34m\"r+b\"\u001b[0m\u001b[0;34m)\u001b[0m\u001b[0;34m\u001b[0m\u001b[0;34m\u001b[0m\u001b[0m\n\u001b[1;32m   2236\u001b[0m             \u001b[0;32melse\u001b[0m\u001b[0;34m:\u001b[0m\u001b[0;34m\u001b[0m\u001b[0;34m\u001b[0m\u001b[0m\n\u001b[0;32m-> 2237\u001b[0;31m                 \u001b[0mfp\u001b[0m \u001b[0;34m=\u001b[0m \u001b[0mbuiltins\u001b[0m\u001b[0;34m.\u001b[0m\u001b[0mopen\u001b[0m\u001b[0;34m(\u001b[0m\u001b[0mfilename\u001b[0m\u001b[0;34m,\u001b[0m \u001b[0;34m\"w+b\"\u001b[0m\u001b[0;34m)\u001b[0m\u001b[0;34m\u001b[0m\u001b[0;34m\u001b[0m\u001b[0m\n\u001b[0m\u001b[1;32m   2238\u001b[0m \u001b[0;34m\u001b[0m\u001b[0m\n\u001b[1;32m   2239\u001b[0m         \u001b[0;32mtry\u001b[0m\u001b[0;34m:\u001b[0m\u001b[0;34m\u001b[0m\u001b[0;34m\u001b[0m\u001b[0m\n",
      "\u001b[0;31mFileNotFoundError\u001b[0m: [Errno 2] No such file or directory: 'outputs/frame_difference reference as first frame for frame number 1.jpg'"
     ]
    },
    {
     "data": {
      "image/png": "[encoded data removed]",
      "text/plain": [
       "<Figure size 432x288 with 1 Axes>"
      ]
     },
     "metadata": {
      "needs_background": "light"
     },
     "output_type": "display_data"
    }
   ],
   "source": [
    "ICV_frame_difference_video(frames)"
   ]
  },
  {
   "cell_type": "markdown",
   "id": "a036778c",
   "metadata": {},
   "source": [
    "<b>b) Repeat the exercise using the previous frame as reference frame (use frame It-1 as reference frame for frame It, for each t). Comment the results in the report.</b>"
   ]
  },
  {
   "cell_type": "code",
   "execution_count": null,
   "id": "0428469a",
   "metadata": {},
   "outputs": [],
   "source": [
    "ICV_frame_difference_video_consecutive"
   ]
  },
  {
   "cell_type": "markdown",
   "id": "a1c09887",
   "metadata": {},
   "source": [
    "<b>c) Write a function that generates a reference frame (background) for the sequence using for example frame differencing and a weighted temporal averaging algorithm</b>"
   ]
  },
  {
   "cell_type": "code",
   "execution_count": null,
   "id": "e5272204",
   "metadata": {},
   "outputs": [],
   "source": [
    "background = ICV_background(frames)\n",
    "plt.axis(\"off\")\n",
    "plt.imshow(background, cmap = 'gray')"
   ]
  },
  {
   "cell_type": "markdown",
   "id": "5c8dbe95",
   "metadata": {},
   "source": [
    "<b>d) Write a function that counts the number of moving objects in each frame of a sequence. Generate a bar plot that visualizes the number of objects for each frame of the whole sequence. Discuss in the report the implemented solution, including advantages and disadvantages.</b>"
   ]
  },
  {
   "cell_type": "markdown",
   "id": "b3d471cb",
   "metadata": {},
   "source": [
    "#### Attempt 1"
   ]
  },
  {
   "cell_type": "code",
   "execution_count": null,
   "id": "8a281277",
   "metadata": {},
   "outputs": [],
   "source": [
    "moving_objects = ICV_ICV_count_moving_objects_erosion_dilation(frames)"
   ]
  },
  {
   "cell_type": "markdown",
   "id": "d605375a",
   "metadata": {},
   "source": [
    "#### Attempt 2"
   ]
  },
  {
   "cell_type": "code",
   "execution_count": null,
   "id": "ccceef61",
   "metadata": {},
   "outputs": [],
   "source": [
    "moving_objects = ICV_count_moving_objects_interpolation(frames)"
   ]
  },
  {
   "cell_type": "code",
   "execution_count": null,
   "id": "36704187",
   "metadata": {
    "scrolled": false
   },
   "outputs": [],
   "source": []
  },
  {
   "cell_type": "code",
   "execution_count": null,
   "id": "b96ae166",
   "metadata": {},
   "outputs": [],
   "source": []
  },
  {
   "cell_type": "code",
   "execution_count": null,
   "id": "da4b0957",
   "metadata": {},
   "outputs": [],
   "source": []
  },
  {
   "cell_type": "code",
   "execution_count": null,
   "id": "358bdb31",
   "metadata": {},
   "outputs": [],
   "source": []
  },
  {
   "cell_type": "code",
   "execution_count": null,
   "id": "5627f88f",
   "metadata": {},
   "outputs": [],
   "source": []
  },
  {
   "cell_type": "code",
   "execution_count": null,
   "id": "9d5cfa92",
   "metadata": {},
   "outputs": [],
   "source": []
  },
  {
   "cell_type": "code",
   "execution_count": null,
   "id": "3145695e",
   "metadata": {},
   "outputs": [],
   "source": []
  },
  {
   "cell_type": "code",
   "execution_count": null,
   "id": "9821bcfc",
   "metadata": {},
   "outputs": [],
   "source": []
  }
 ],
 "metadata": {
  "kernelspec": {
   "display_name": "Python 3 (ipykernel)",
   "language": "python",
   "name": "python3"
  },
  "language_info": {
   "codemirror_mode": {
    "name": "ipython",
    "version": 3
   },
   "file_extension": ".py",
   "mimetype": "text/x-python",
   "name": "python",
   "nbconvert_exporter": "python",
   "pygments_lexer": "ipython3",
   "version": "3.9.7"
  }
 },
 "nbformat": 4,
 "nbformat_minor": 5
}
